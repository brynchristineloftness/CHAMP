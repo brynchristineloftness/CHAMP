{
  "cells": [
    {
      "cell_type": "markdown",
      "metadata": {
        "id": "HihdqLv-WTVI"
      },
      "source": [
        "# Interactive Data Tutorial"
      ]
    },
    {
      "cell_type": "markdown",
      "metadata": {
        "id": "IlVpj-BaWTVP"
      },
      "source": [
        "## *Welcome to the ChAMP Data Interactive Demo!*\n",
        "\n",
        "#### Herein we share a link to our step-by-step tutorial for analyzing movement data extracted using the ChAMP app. \n",
        "\n",
        "```{image} /_images/logo.png\n",
        ":alt: logo\n",
        ":class: bg-primary mb-1\n",
        ":width: 150px\n",
        ":align: center\n",
        "```\n",
        "\n",
        "#### Before beginning, you must download our open-access dataset of ChAMP data or collect your own data using the ChAMP mobile application. \n",
        "\n",
        "*need to add link:* To download the open access dataset already collected by our team, go [here](). \n",
        "\n",
        "To request download access for the ChAMP mobile application to collect your own dataset, please fill out [this form](https://forms.office.com/r/PEfwybkiAM) or scan this QR code.\n",
        "\n",
        "```{image} /_images/QR.png\n",
        ":alt: QR code\n",
        ":class: bg-primary mb-1\n",
        ":width: 150px\n",
        ":align: center\n",
        "```\n",
        "\n",
        "To access the script with step-by-step instructions, go [here](https://colab.research.google.com/drive/1g6yjky4avTAsZMPUO4AFukOi75jci2DO) or click the rocket ship icon in the upper right corner of this page and select from the drop-down to open in Google Colab.\n",
        "\n",
        "**If you have any questions downloading the data or running this interactive script, please contact Bryn Loftness at bryn.loftness@uvm.edu**. "
      ]
    },
    {
      "cell_type": "markdown",
      "metadata": {},
      "source": []
    }
  ],
  "metadata": {
    "colab": {
      "collapsed_sections": [
        "Py0skbSOWTVQ",
        "DbwoyWEAWTVT",
        "61GSGssCkCQM",
        "IY8G2bd-kKOd",
        "OE8KZKtckOvr",
        "0VDXGSAjkXyn",
        "8VQB84k8kcyY",
        "H3M6hKzbko56",
        "IU3siyL6kzxy"
      ],
      "provenance": []
    },
    "kernelspec": {
      "display_name": "Python 3.9.7 ('base')",
      "language": "python",
      "name": "python3"
    },
    "language_info": {
      "codemirror_mode": {
        "name": "ipython",
        "version": 3
      },
      "file_extension": ".py",
      "mimetype": "text/x-python",
      "name": "python",
      "nbconvert_exporter": "python",
      "pygments_lexer": "ipython3",
      "version": "3.9.7"
    },
    "orig_nbformat": 4,
    "vscode": {
      "interpreter": {
        "hash": "058e3c7b87c7a589515811820a5e79ea24e73f048f8140cc0f8df6e32bbae3e0"
      }
    }
  },
  "nbformat": 4,
  "nbformat_minor": 0
}
