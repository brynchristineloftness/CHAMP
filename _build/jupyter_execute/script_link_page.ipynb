{
 "cells": [
  {
   "cell_type": "markdown",
   "metadata": {
    "id": "HihdqLv-WTVI"
   },
   "source": [
    "# Interactive Data Tutorial"
   ]
  },
  {
   "attachments": {},
   "cell_type": "markdown",
   "metadata": {
    "id": "IlVpj-BaWTVP"
   },
   "source": [
    "## *Welcome to the ChAMP Data Interactive Demo!*\n",
    "\n",
    "#### Herein we share a link to our step-by-step tutorial for analyzing movement data extracted using the ChAMP app. \n",
    "\n",
    "```{image} /_images/logo.png\n",
    ":alt: logo\n",
    ":class: bg-primary mb-1\n",
    ":width: 150px\n",
    ":align: center\n",
    "```\n",
    "\n",
    "#### Before beginning, you must download the real-world example files from our ChAMP data or collect your own data using the ChAMP mobile application. \n",
    "\n",
    "To download the open access dataset already collected by our team, go [here](https://drive.google.com/drive/folders/1CDAYxIMWCOtvndpSXO0XaQLqx-Gw0nl7?usp=sharing). Save this data in this folder to the home directory of your Google Drive in a folder called \"champ_data\" to use directly with the ChAMP interactive script. Ensure each action log file is in the format of S###.actionLog.projectmHealth.csv and each data log file is in the format of S###.dataLog.projectmHealth.csv.\n",
    "\n",
    "To request download access for the ChAMP mobile application to collect your own dataset, please fill out [this form](https://forms.office.com/r/PEfwybkiAM) or scan this QR code.\n",
    "\n",
    "```{image} /_images/QR.png\n",
    ":alt: QR code\n",
    ":class: bg-primary mb-1\n",
    ":width: 150px\n",
    ":align: center\n",
    "```\n",
    "\n",
    "To access the script with step-by-step instructions, go [here](https://colab.research.google.com/drive/1g6yjky4avTAsZMPUO4AFukOi75jci2DO) or click the rocket ship icon in the upper right corner of this page and select from the drop-down to open in Google Colab. Once you are on the script page, under the top options bar click \"Copy to Drive\". Once you've made the folder with data (champ_data) in the home directory of your drive, on the top click \"Runtime\" -> \"Run All\". You will be prompted to connect your google drive to the script. Once the program has completed running (may take a minute or two depending on the number of files), one CSV will be downloaded onto your computer with features extracted for each subject.\n",
    "\n",
    "**If you have any questions downloading the data or running this interactive script, please contact Bryn Loftness at bryn.loftness@uvm.edu**. "
   ]
  }
 ],
 "metadata": {
  "colab": {
   "collapsed_sections": [
    "Py0skbSOWTVQ",
    "DbwoyWEAWTVT",
    "61GSGssCkCQM",
    "IY8G2bd-kKOd",
    "OE8KZKtckOvr",
    "0VDXGSAjkXyn",
    "8VQB84k8kcyY",
    "H3M6hKzbko56",
    "IU3siyL6kzxy"
   ],
   "provenance": []
  },
  "kernelspec": {
   "display_name": "Python 3.9.7 ('base')",
   "language": "python",
   "name": "python3"
  },
  "language_info": {
   "codemirror_mode": {
    "name": "ipython",
    "version": 3
   },
   "file_extension": ".py",
   "mimetype": "text/x-python",
   "name": "python",
   "nbconvert_exporter": "python",
   "pygments_lexer": "ipython3",
   "version": "3.8.5"
  },
  "vscode": {
   "interpreter": {
    "hash": "058e3c7b87c7a589515811820a5e79ea24e73f048f8140cc0f8df6e32bbae3e0"
   }
  }
 },
 "nbformat": 4,
 "nbformat_minor": 0
}